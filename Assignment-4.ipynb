{
 "cells": [
  {
   "cell_type": "code",
   "execution_count": 1,
   "metadata": {},
   "outputs": [],
   "source": [
    "#Task 1"
   ]
  },
  {
   "cell_type": "code",
   "execution_count": 2,
   "metadata": {},
   "outputs": [
    {
     "name": "stdout",
     "output_type": "stream",
     "text": [
      "[5.0, 4.666666666666667, 5.666666666666667, 6.666666666666667, 9.666666666666666, 28.666666666666668, 49.333333333333336, 72.66666666666667, 84.0, 93.33333333333333, 116.33333333333333]\n"
     ]
    }
   ],
   "source": [
    "# 1. Given a sequence of n values x1, x2, ..., xn and a window size k>0, the k-th moving average of\n",
    "#    the given sequence is defined as follows:\n",
    "#    The moving average sequence has n-k+1 elements as shown below.\n",
    "#    The moving averages with k=4 of a ten-value sequence (n=10) is shown below\n",
    "#    i  1 2 3 4 5 6 7 8 9 10\n",
    "#    ===== == == == == == == == == == ==\n",
    "#    Input 10 20 30 40 50 60 70 80 90 100\n",
    "#    y1 25 = (10+20+30+40)/4\n",
    "#    y2 35 = (20+30+40+50)/4\n",
    "#    y3 45 = (30+40+50+60)/4\n",
    "#    y4 55 = (40+50+60+70)/4\n",
    "#    y5 65 = (50+60+70+80)/4\n",
    "#    y6 75 = (60+70+80+90)/4\n",
    "#    y7 85 = (70+80+90+100)/4\n",
    "#    Thus, the moving average sequence has n-k+1=10-4+1=7 values.\n",
    "\n",
    "#    Problem Statement:\n",
    "#    Write a function to find moving average in an array over a window:\n",
    "#    Test it over [3, 5, 7, 2, 8, 10, 11, 65, 72, 81, 99, 100, 150] and window of 3.\n",
    "\n",
    "import numpy as np\n",
    "def moving_average(lst, k):\n",
    "    n=len(lst)\n",
    "    result=[np.sum(lst[i:i+k],dtype=np.float)/k for i in range(n-k+1)]\n",
    "    return result\n",
    "\n",
    "lt=[3,5,7,2,8,10,11,65,72,81,99,100,150]\n",
    "print(moving_average(lt,3))"
   ]
  },
  {
   "cell_type": "code",
   "execution_count": 3,
   "metadata": {},
   "outputs": [],
   "source": [
    "#Task 2"
   ]
  },
  {
   "cell_type": "code",
   "execution_count": 4,
   "metadata": {},
   "outputs": [
    {
     "data": {
      "text/html": [
       "<div>\n",
       "<style scoped>\n",
       "    .dataframe tbody tr th:only-of-type {\n",
       "        vertical-align: middle;\n",
       "    }\n",
       "\n",
       "    .dataframe tbody tr th {\n",
       "        vertical-align: top;\n",
       "    }\n",
       "\n",
       "    .dataframe thead th {\n",
       "        text-align: right;\n",
       "    }\n",
       "</style>\n",
       "<table border=\"1\" class=\"dataframe\">\n",
       "  <thead>\n",
       "    <tr style=\"text-align: right;\">\n",
       "      <th></th>\n",
       "      <th>X</th>\n",
       "      <th>Count_Zero_Distance</th>\n",
       "    </tr>\n",
       "  </thead>\n",
       "  <tbody>\n",
       "    <tr>\n",
       "      <th>0</th>\n",
       "      <td>7</td>\n",
       "      <td>1</td>\n",
       "    </tr>\n",
       "    <tr>\n",
       "      <th>1</th>\n",
       "      <td>2</td>\n",
       "      <td>2</td>\n",
       "    </tr>\n",
       "    <tr>\n",
       "      <th>2</th>\n",
       "      <td>0</td>\n",
       "      <td>0</td>\n",
       "    </tr>\n",
       "    <tr>\n",
       "      <th>3</th>\n",
       "      <td>3</td>\n",
       "      <td>1</td>\n",
       "    </tr>\n",
       "    <tr>\n",
       "      <th>4</th>\n",
       "      <td>4</td>\n",
       "      <td>2</td>\n",
       "    </tr>\n",
       "    <tr>\n",
       "      <th>5</th>\n",
       "      <td>2</td>\n",
       "      <td>3</td>\n",
       "    </tr>\n",
       "    <tr>\n",
       "      <th>6</th>\n",
       "      <td>5</td>\n",
       "      <td>4</td>\n",
       "    </tr>\n",
       "    <tr>\n",
       "      <th>7</th>\n",
       "      <td>0</td>\n",
       "      <td>0</td>\n",
       "    </tr>\n",
       "    <tr>\n",
       "      <th>8</th>\n",
       "      <td>3</td>\n",
       "      <td>1</td>\n",
       "    </tr>\n",
       "    <tr>\n",
       "      <th>9</th>\n",
       "      <td>4</td>\n",
       "      <td>2</td>\n",
       "    </tr>\n",
       "  </tbody>\n",
       "</table>\n",
       "</div>"
      ],
      "text/plain": [
       "   X  Count_Zero_Distance\n",
       "0  7                    1\n",
       "1  2                    2\n",
       "2  0                    0\n",
       "3  3                    1\n",
       "4  4                    2\n",
       "5  2                    3\n",
       "6  5                    4\n",
       "7  0                    0\n",
       "8  3                    1\n",
       "9  4                    2"
      ]
     },
     "execution_count": 4,
     "metadata": {},
     "output_type": "execute_result"
    }
   ],
   "source": [
    "# 1. How-to-count-distance-to-the-previous-zero\n",
    "#    For each value, count the difference back to the previous zero (or the start of the Series,\n",
    "#    whichever is closer)\n",
    "#    create a new column 'Y'\n",
    "#    Consider a DataFrame df where there is an integer column 'X'\n",
    "#    import pandas as pd\n",
    "#    df = pd.DataFrame({'X': [7, 2, 0, 3, 4, 2, 5, 0, 3, 4]})\n",
    "\n",
    "import pandas as pd\n",
    "            \n",
    "df = pd.DataFrame({'X': [7, 2, 0, 3, 4, 2, 5, 0, 3, 4]})\n",
    "df['Count_Zero_Distance']=0\n",
    "i=0\n",
    "\n",
    "for index, row in df.iterrows():    \n",
    "    if row['X'] != 0:\n",
    "        i += 1\n",
    "    else:\n",
    "        i = 0\n",
    "    df.at[index, 'Count_Zero_Distance'] = i\n",
    "\n",
    "df.head(10)"
   ]
  },
  {
   "cell_type": "code",
   "execution_count": 5,
   "metadata": {},
   "outputs": [
    {
     "name": "stdout",
     "output_type": "stream",
     "text": [
      "2015-01-01    0.017726\n",
      "2015-01-02    0.984236\n",
      "2015-01-05    0.331847\n",
      "2015-01-06    0.078654\n",
      "2015-01-07    0.293351\n",
      "2015-01-08    0.053280\n",
      "2015-01-09    0.012060\n",
      "2015-01-12    0.242107\n",
      "2015-01-13    0.612482\n",
      "2015-01-14    0.860669\n",
      "2015-01-15    0.669061\n",
      "2015-01-16    0.479871\n",
      "2015-01-19    0.415238\n",
      "2015-01-20    0.614800\n",
      "2015-01-21    0.775380\n",
      "2015-01-22    0.745230\n",
      "2015-01-23    0.723898\n",
      "2015-01-26    0.438720\n",
      "2015-01-27    0.286493\n",
      "2015-01-28    0.828373\n",
      "2015-01-29    0.100343\n",
      "2015-01-30    0.450703\n",
      "2015-02-02    0.060400\n",
      "2015-02-03    0.120190\n",
      "2015-02-04    0.023554\n",
      "2015-02-05    0.630828\n",
      "2015-02-06    0.725368\n",
      "2015-02-09    0.169488\n",
      "2015-02-10    0.494135\n",
      "2015-02-11    0.846133\n",
      "                ...   \n",
      "2015-11-20    0.350357\n",
      "2015-11-23    0.121762\n",
      "2015-11-24    0.450672\n",
      "2015-11-25    0.369738\n",
      "2015-11-26    0.486125\n",
      "2015-11-27    0.402123\n",
      "2015-11-30    0.735170\n",
      "2015-12-01    0.576056\n",
      "2015-12-02    0.752453\n",
      "2015-12-03    0.740972\n",
      "2015-12-04    0.105698\n",
      "2015-12-07    0.450630\n",
      "2015-12-08    0.645260\n",
      "2015-12-09    0.712356\n",
      "2015-12-10    0.395362\n",
      "2015-12-11    0.427845\n",
      "2015-12-14    0.650016\n",
      "2015-12-15    0.863284\n",
      "2015-12-16    0.508357\n",
      "2015-12-17    0.168010\n",
      "2015-12-18    0.178614\n",
      "2015-12-21    0.629832\n",
      "2015-12-22    0.242010\n",
      "2015-12-23    0.077868\n",
      "2015-12-24    0.180169\n",
      "2015-12-25    0.140278\n",
      "2015-12-28    0.811059\n",
      "2015-12-29    0.609235\n",
      "2015-12-30    0.057726\n",
      "2015-12-31    0.323457\n",
      "Freq: B, Length: 261, dtype: float64\n"
     ]
    }
   ],
   "source": [
    "# 2. Create a DatetimeIndex that contains each business day of 2015 and use it to index a Series of\n",
    "#    random numbers.\n",
    "\n",
    "dti=pd.date_range(start='2015-01-01', end='2015-12-31', freq='B') \n",
    "s = pd.Series(np.random.rand(len(dti)), index=dti)\n",
    "print(s)"
   ]
  },
  {
   "cell_type": "code",
   "execution_count": 6,
   "metadata": {},
   "outputs": [
    {
     "name": "stdout",
     "output_type": "stream",
     "text": [
      "The Sum of the Values in s for every Wednesday:  25.471864399532265\n"
     ]
    }
   ],
   "source": [
    "# 3. Find the sum of the values in s for every Wednesday\n",
    "\n",
    "print(\"The Sum of the Values in s for every Wednesday: \",s[dti.weekday == 2].sum())"
   ]
  },
  {
   "cell_type": "code",
   "execution_count": 7,
   "metadata": {},
   "outputs": [
    {
     "data": {
      "text/plain": [
       "1     0.455206\n",
       "2     0.563608\n",
       "3     0.452346\n",
       "4     0.575809\n",
       "5     0.458230\n",
       "6     0.353977\n",
       "7     0.428867\n",
       "8     0.416023\n",
       "9     0.594400\n",
       "10    0.410409\n",
       "11    0.436284\n",
       "12    0.445502\n",
       "dtype: float64"
      ]
     },
     "execution_count": 7,
     "metadata": {},
     "output_type": "execute_result"
    }
   ],
   "source": [
    "# 4. Average For each calendar month\n",
    "\n",
    "s.groupby(dti.month).mean()"
   ]
  },
  {
   "cell_type": "code",
   "execution_count": 8,
   "metadata": {
    "scrolled": true
   },
   "outputs": [
    {
     "data": {
      "text/plain": [
       "2015-01-02    0.984236\n",
       "2015-05-07    0.970153\n",
       "2015-09-18    0.999739\n",
       "Name: Value, dtype: float64"
      ]
     },
     "execution_count": 8,
     "metadata": {},
     "output_type": "execute_result"
    }
   ],
   "source": [
    "# 5. For each group of four consecutive calendar months in s, find the date on which the highest value occurred.\n",
    "\n",
    "def group4ConMonths(val):\n",
    "    mo = val.name.month\n",
    "    if (mo <= 4):\n",
    "        return 1\n",
    "    elif (mo >= 9):\n",
    "        return 3\n",
    "    else:\n",
    "        return 2\n",
    "\n",
    "df = s.to_frame(name=\"Value\")\n",
    "df[\"4CMG\"] = df.apply(group4ConMonths, axis=1)\n",
    "g4_con_month = df.groupby(['4CMG'])['Value'].transform(max) == df['Value']\n",
    "df[g4_con_month][\"Value\"]"
   ]
  }
 ],
 "metadata": {
  "kernelspec": {
   "display_name": "Python 3",
   "language": "python",
   "name": "python3"
  },
  "language_info": {
   "codemirror_mode": {
    "name": "ipython",
    "version": 3
   },
   "file_extension": ".py",
   "mimetype": "text/x-python",
   "name": "python",
   "nbconvert_exporter": "python",
   "pygments_lexer": "ipython3",
   "version": "3.7.0"
  }
 },
 "nbformat": 4,
 "nbformat_minor": 2
}
